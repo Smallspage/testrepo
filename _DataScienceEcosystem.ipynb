{
 "cells": [
  {
   "cell_type": "markdown",
   "id": "dab6fa79",
   "metadata": {},
   "source": [
    "# Data Science Tools and Ecosystem"
   ]
  },
  {
   "cell_type": "markdown",
   "id": "34d0d9ab",
   "metadata": {},
   "source": [
    "## In this notebook, Data Science Tools and Ecosystem are summarized."
   ]
  },
  {
   "cell_type": "markdown",
   "id": "8db97855",
   "metadata": {},
   "source": [
    "### Some of the popular languages that Data Scientists use are"
   ]
  },
  {
   "cell_type": "markdown",
   "id": "e8b38b7c",
   "metadata": {},
   "source": [
    "1. Python\n",
    "2. R\n",
    "3. SQL"
   ]
  },
  {
   "cell_type": "markdown",
   "id": "070501d8",
   "metadata": {},
   "source": [
    "# Some of the commonly used libraries used by Data Scientists include:"
   ]
  },
  {
   "cell_type": "markdown",
   "id": "7d2517de",
   "metadata": {},
   "source": [
    "1. Pandas\n",
    "2. Numpy\n",
    "3. ggplot2\n"
   ]
  },
  {
   "cell_type": "markdown",
   "id": "4ff4a7a4",
   "metadata": {},
   "source": []
  },
  {
   "cell_type": "markdown",
   "id": "43c36e6b",
   "metadata": {},
   "source": [
    "| Data Science Tools |\n",
    "-------------------------------\n",
    "| Anaconda       |\n",
    "| Jupyter notebook |\n",
    "| Spyder      |"
   ]
  },
  {
   "cell_type": "markdown",
   "id": "ec1c7ae1",
   "metadata": {},
   "source": [
    "### Below are a few examples of evaluating arithmetic expressions in Python"
   ]
  },
  {
   "cell_type": "code",
   "execution_count": 20,
   "id": "2dd7ec6b",
   "metadata": {},
   "outputs": [],
   "source": [
    "#This a simple arithmetic expression to mutiply then add integers."
   ]
  },
  {
   "cell_type": "code",
   "execution_count": 21,
   "id": "23794efb",
   "metadata": {},
   "outputs": [
    {
     "data": {
      "text/plain": [
       "17"
      ]
     },
     "execution_count": 21,
     "metadata": {},
     "output_type": "execute_result"
    }
   ],
   "source": [
    "(3*4)+5"
   ]
  },
  {
   "cell_type": "code",
   "execution_count": 14,
   "id": "cd727320",
   "metadata": {},
   "outputs": [],
   "source": [
    "#This will convert 200 minutes to hours by diving by 60."
   ]
  },
  {
   "cell_type": "code",
   "execution_count": 16,
   "id": "9f63d0ee",
   "metadata": {},
   "outputs": [
    {
     "data": {
      "text/plain": [
       "3.3333333333333335"
      ]
     },
     "execution_count": 16,
     "metadata": {},
     "output_type": "execute_result"
    }
   ],
   "source": [
    "200/60"
   ]
  },
  {
   "cell_type": "markdown",
   "id": "ea98de71",
   "metadata": {},
   "source": [
    "***Objectives***\n",
    "\n",
    " #### List popular languages for Data Science\n",
    "    - Python\n",
    "    - R Language\n",
    "    - C++"
   ]
  },
  {
   "cell_type": "markdown",
   "id": "49cefbf6",
   "metadata": {},
   "source": [
    "## Author\n",
    "\n",
    "# Agu uchechi gift"
   ]
  },
  {
   "cell_type": "code",
   "execution_count": null,
   "id": "f6373e31",
   "metadata": {},
   "outputs": [],
   "source": []
  }
 ],
 "metadata": {
  "kernelspec": {
   "display_name": "Python 3 (ipykernel)",
   "language": "python",
   "name": "python3"
  },
  "language_info": {
   "codemirror_mode": {
    "name": "ipython",
    "version": 3
   },
   "file_extension": ".py",
   "mimetype": "text/x-python",
   "name": "python",
   "nbconvert_exporter": "python",
   "pygments_lexer": "ipython3",
   "version": "3.11.5"
  }
 },
 "nbformat": 4,
 "nbformat_minor": 5
}
